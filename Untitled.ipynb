{
 "cells": [
  {
   "cell_type": "code",
   "execution_count": 2,
   "metadata": {
    "collapsed": true
   },
   "outputs": [],
   "source": [
    "df = pd.read_table('SMSSpamCollection', header = None , encoding='utf-8')"
   ]
  },
  {
   "cell_type": "code",
   "execution_count": 3,
   "metadata": {},
   "outputs": [
    {
     "name": "stdout",
     "output_type": "stream",
     "text": [
      "<class 'pandas.core.frame.DataFrame'>\n",
      "RangeIndex: 5572 entries, 0 to 5571\n",
      "Data columns (total 2 columns):\n",
      "0    5572 non-null object\n",
      "1    5572 non-null object\n",
      "dtypes: object(2)\n",
      "memory usage: 87.1+ KB\n",
      "None\n",
      "      0                                                  1\n",
      "0   ham  Go until jurong point, crazy.. Available only ...\n",
      "1   ham                      Ok lar... Joking wif u oni...\n",
      "2  spam  Free entry in 2 a wkly comp to win FA Cup fina...\n",
      "3   ham  U dun say so early hor... U c already then say...\n",
      "4   ham  Nah I don't think he goes to usf, he lives aro...\n"
     ]
    }
   ],
   "source": [
    "print(df.info())\n",
    "print(df.head())"
   ]
  },
  {
   "cell_type": "code",
   "execution_count": 7,
   "metadata": {},
   "outputs": [
    {
     "name": "stdout",
     "output_type": "stream",
     "text": [
      "ham     4825\n",
      "spam     747\n",
      "Name: 0, dtype: int64\n"
     ]
    }
   ],
   "source": [
    "classes = df[0]\n",
    "print(classes.value_counts())"
   ]
  },
  {
   "cell_type": "code",
   "execution_count": 8,
   "metadata": {
    "collapsed": true
   },
   "outputs": [],
   "source": [
    "from sklearn.preprocessing import LabelEncoder\n",
    "encoder= LabelEncoder()\n",
    "\n",
    "Y=encoder.fit_transform(classes)\n"
   ]
  },
  {
   "cell_type": "code",
   "execution_count": 9,
   "metadata": {},
   "outputs": [
    {
     "name": "stdout",
     "output_type": "stream",
     "text": [
      "[0 0 1 0 0 1 0 0 1 1]\n",
      "0     ham\n",
      "1     ham\n",
      "2    spam\n",
      "3     ham\n",
      "4     ham\n",
      "5    spam\n",
      "6     ham\n",
      "7     ham\n",
      "8    spam\n",
      "9    spam\n",
      "Name: 0, dtype: object\n",
      "0    Go until jurong point, crazy.. Available only ...\n",
      "1                        Ok lar... Joking wif u oni...\n",
      "2    Free entry in 2 a wkly comp to win FA Cup fina...\n",
      "3    U dun say so early hor... U c already then say...\n",
      "4    Nah I don't think he goes to usf, he lives aro...\n",
      "5    FreeMsg Hey there darling it's been 3 week's n...\n",
      "6    Even my brother is not like to speak with me. ...\n",
      "7    As per your request 'Melle Melle (Oru Minnamin...\n",
      "8    WINNER!! As a valued network customer you have...\n",
      "9    Had your mobile 11 months or more? U R entitle...\n",
      "Name: 1, dtype: object\n",
      "0       go until jurong point, crazy.. available only ...\n",
      "1                           ok lar... joking wif u oni...\n",
      "2       free entry in 2 a wkly comp to win fa cup fina...\n",
      "3       u dun say so early hor... u c already then say...\n",
      "4       nah i don't think he goes to usf, he lives aro...\n",
      "5       freemsg hey there darling it's been 3 week's n...\n",
      "6       even my brother is not like to speak with me. ...\n",
      "7       as per your request 'melle melle (oru minnamin...\n",
      "8       winner!! as a valued network customer you have...\n",
      "9       had your mobile 11 months or more? u r entitle...\n",
      "10      i'm gonna be home soon and i don't want to tal...\n",
      "11      six chances to win cash! from 100 to 20,000 po...\n",
      "12      urgent! you have won a 1 week free membership ...\n",
      "13      i've been searching for the right words to tha...\n",
      "14                    i have a date on sunday with will!!\n",
      "15      xxxmobilemovieclub: to use your credit, click ...\n",
      "16                             oh k...i'm watching here:)\n",
      "17      eh u remember how 2 spell his name... yes i di...\n",
      "18      fine if thats the way u feel. thats the way ...\n",
      "19      england v macedonia - dont miss the goals/team...\n",
      "20              is that seriously how you spell his name?\n",
      "21        i‘m going to try for 2 months ha ha only joking\n",
      "22      so ü pay first lar... then when is da stock co...\n",
      "23      aft i finish my lunch then i go str down lor. ...\n",
      "24      ffffffffff. alright no way i can meet up with ...\n",
      "25      just forced myself to eat a slice. i'm really ...\n",
      "26                         lol your always so convincing.\n",
      "27      did you catch the bus ? are you frying an egg ...\n",
      "28      i'm back &amp; we're packing the car now, i'll...\n",
      "29      ahhh. work. i vaguely remember that! what does...\n",
      "                              ...                        \n",
      "5542             armand says get your ass over to epsilon\n",
      "5543               u still havent got urself a jacket ah?\n",
      "5544    i'm taking derek &amp; taylor to walmart, if i...\n",
      "5545        hi its in durban are you still on this number\n",
      "5546           ic. there are a lotta childporn cars then.\n",
      "5547    had your contract mobile 11 mnths? latest moto...\n",
      "5548                   no, i was trying it all weekend ;v\n",
      "5549    you know, wot people wear. t shirts, jumpers, ...\n",
      "5550          cool, what time you think you can get here?\n",
      "5551    wen did you get so spiritual and deep. that's ...\n",
      "5552    have a safe trip to nigeria. wish you happines...\n",
      "5553                          hahaha..use your brain dear\n",
      "5554    well keep in mind i've only got enough gas for...\n",
      "5555    yeh. indians was nice. tho it did kane me off ...\n",
      "5556    yes i have. so that's why u texted. pshew...mi...\n",
      "5557    no. i meant the calculation is the same. that ...\n",
      "5558                               sorry, i'll call later\n",
      "5559    if you aren't here in the next  &lt;#&gt;  hou...\n",
      "5560                    anything lor. juz both of us lor.\n",
      "5561    get me out of this dump heap. my mom decided t...\n",
      "5562    ok lor... sony ericsson salesman... i ask shuh...\n",
      "5563                                  ard 6 like dat lor.\n",
      "5564    why don't you wait 'til at least wednesday to ...\n",
      "5565                                         huh y lei...\n",
      "5566    reminder from o2: to get 2.50 pounds free call...\n",
      "5567    this is the 2nd time we have tried 2 contact u...\n",
      "5568                 will ü b going to esplanade fr home?\n",
      "5569    pity, * was in mood for that. so...any other s...\n",
      "5570    the guy did some bitching but i acted like i'd...\n",
      "5571                           rofl. its true to its name\n",
      "Name: 1, Length: 5572, dtype: object\n"
     ]
    }
   ],
   "source": [
    "print(Y[:10])\n",
    "print(classes[:10])\n",
    "\n",
    "text_message= df[1]\n",
    "print(text_message[:10])\n",
    "\n",
    "processed= text_message.str.replace(r'^\\w+@[a-zA-Z_]+?\\.[a-zA-Z]{2,3}$','emailaddr')\n",
    "\n",
    "processed= processed.str.replace(r'http\\://[a-zA-Z0-9\\-\\.]+\\.{a-zA-Z}{2,3}(/\\S*)?$','webaddress')\n",
    "processed= text_message.str.replace(r'£|\\$','moneysymb')\n",
    "processed= text_message.str.replace(r'^\\(?[\\d]{3}\\)?[\\s-]?[\\d]{3}[\\s-]?[\\d]{4}$','phonenumbr')\n",
    "\n",
    "processed= text_message.str.replace(r'\\d+(\\.\\d+)?','numbr')\n",
    "\n",
    "processed= text_message.str.replace(r'[^\\w\\d\\s]',' ')\n",
    "\n",
    "processed= text_message.str.replace(r'\\s+',' ')\n",
    "\n",
    "processed= text_message.str.replace(r'^\\s+|\\s+?$','')\n",
    "\n",
    "processed = processed.str.lower()\n",
    "print(processed)"
   ]
  },
  {
   "cell_type": "code",
   "execution_count": 10,
   "metadata": {
    "collapsed": true
   },
   "outputs": [],
   "source": [
    "from nltk.corpus import stopwords"
   ]
  },
  {
   "cell_type": "code",
   "execution_count": 11,
   "metadata": {
    "collapsed": true
   },
   "outputs": [],
   "source": [
    "stop_words = set(stopwords.words('english'))"
   ]
  },
  {
   "cell_type": "code",
   "execution_count": 12,
   "metadata": {},
   "outputs": [
    {
     "ename": "NameError",
     "evalue": "name 'nltk' is not defined",
     "output_type": "error",
     "traceback": [
      "\u001b[1;31m---------------------------------------------------------------------------\u001b[0m",
      "\u001b[1;31mNameError\u001b[0m                                 Traceback (most recent call last)",
      "\u001b[1;32m<ipython-input-12-cbbee87b2a56>\u001b[0m in \u001b[0;36m<module>\u001b[1;34m()\u001b[0m\n\u001b[0;32m      1\u001b[0m \u001b[0mprocessed\u001b[0m \u001b[1;33m=\u001b[0m \u001b[0mprocessed\u001b[0m\u001b[1;33m.\u001b[0m\u001b[0mapply\u001b[0m\u001b[1;33m(\u001b[0m\u001b[1;32mlambda\u001b[0m \u001b[0mx\u001b[0m\u001b[1;33m:\u001b[0m \u001b[1;34m' '\u001b[0m\u001b[1;33m.\u001b[0m\u001b[0mjoin\u001b[0m\u001b[1;33m(\u001b[0m\u001b[0mterm\u001b[0m \u001b[1;32mfor\u001b[0m \u001b[0mterm\u001b[0m \u001b[1;32min\u001b[0m \u001b[0mx\u001b[0m\u001b[1;33m.\u001b[0m\u001b[0msplit\u001b[0m\u001b[1;33m(\u001b[0m\u001b[1;33m)\u001b[0m \u001b[1;32mif\u001b[0m \u001b[0mterm\u001b[0m \u001b[1;32mnot\u001b[0m \u001b[1;32min\u001b[0m \u001b[0mstop_words\u001b[0m\u001b[1;33m)\u001b[0m\u001b[1;33m)\u001b[0m\u001b[1;33m\u001b[0m\u001b[0m\n\u001b[1;32m----> 2\u001b[1;33m \u001b[0mps\u001b[0m\u001b[1;33m=\u001b[0m \u001b[0mnltk\u001b[0m\u001b[1;33m.\u001b[0m\u001b[0mPorterStemmer\u001b[0m\u001b[1;33m(\u001b[0m\u001b[1;33m)\u001b[0m\u001b[1;33m\u001b[0m\u001b[0m\n\u001b[0m",
      "\u001b[1;31mNameError\u001b[0m: name 'nltk' is not defined"
     ]
    }
   ],
   "source": [
    "processed = processed.apply(lambda x: ' '.join(term for term in x.split() if term not in stop_words))\n",
    "ps= nltk.PorterStemmer()"
   ]
  },
  {
   "cell_type": "code",
   "execution_count": null,
   "metadata": {
    "collapsed": true
   },
   "outputs": [],
   "source": []
  }
 ],
 "metadata": {
  "kernelspec": {
   "display_name": "Python 3",
   "language": "python",
   "name": "python3"
  },
  "language_info": {
   "codemirror_mode": {
    "name": "ipython",
    "version": 3
   },
   "file_extension": ".py",
   "mimetype": "text/x-python",
   "name": "python",
   "nbconvert_exporter": "python",
   "pygments_lexer": "ipython3",
   "version": "3.6.1"
  }
 },
 "nbformat": 4,
 "nbformat_minor": 2
}
